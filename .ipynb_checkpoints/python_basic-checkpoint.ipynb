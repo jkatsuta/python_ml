{
 "cells": [
  {
   "cell_type": "markdown",
   "metadata": {},
   "source": []
  },
  {
   "cell_type": "code",
   "execution_count": null,
   "metadata": {
    "collapsed": true
   },
   "outputs": [],
   "source": [
    "# npと省略するのが普通\n",
    "import numpy as np"
   ]
  },
  {
   "cell_type": "code",
   "execution_count": 1,
   "metadata": {
    "collapsed": false
   },
   "outputs": [
    {
     "name": "stdout",
     "output_type": "stream",
     "text": [
      "[10 20 30]\n",
      "[0 1 2 3 4 5 6 7 8 9]\n",
      "[0, 1, 2, 3, 4, 5, 6, 7, 8, 9]\n"
     ]
    }
   ],
   "source": [
    "a = np.array([10, 20, 30])\n",
    "b1 = np.arange(10)\n",
    "b2 = list(range(10))\n",
    "print(a)\n",
    "print(b1)\n",
    "print(b2)\n",
    "\n",
    "# list/arrayの見分け方。カンマがあるかないか"
   ]
  },
  {
   "cell_type": "markdown",
   "metadata": {},
   "source": [
    "list vs array  \n",
    "全く別物。  \n",
    "Listは動的。  \n",
    "Numpyは、裏でC/Fortranが走っている。-> 静的  \n"
   ]
  },
  {
   "cell_type": "code",
   "execution_count": 2,
   "metadata": {
    "collapsed": false
   },
   "outputs": [
    {
     "name": "stdout",
     "output_type": "stream",
     "text": [
      "[1, 2, 3] [10, 20, 30]\n",
      "[1, 2, 3, 10, 20, 30]\n"
     ]
    }
   ],
   "source": [
    "# list\n",
    "a = [1, 2, 3]\n",
    "b = [10, 20, 30]\n",
    "print(a, b)\n",
    "print(a + b)"
   ]
  },
  {
   "cell_type": "code",
   "execution_count": 3,
   "metadata": {
    "collapsed": false
   },
   "outputs": [
    {
     "name": "stdout",
     "output_type": "stream",
     "text": [
      "[1 2 3] [10 20 30]\n",
      "[11 22 33]\n",
      "[10 40 90]\n",
      "[ 0.1  0.1  0.1]\n",
      "\n",
      "[101 102 103]\n",
      "[100 200 300]\n",
      "[ 0.01  0.02  0.03]\n",
      "[1 4 9]\n",
      "\n",
      "[2 3 4]\n"
     ]
    },
    {
     "ename": "ValueError",
     "evalue": "operands could not be broadcast together with shapes (4,) (2,) ",
     "output_type": "error",
     "traceback": [
      "\u001b[0;31m---------------------------------------------------------------------------\u001b[0m",
      "\u001b[0;31mValueError\u001b[0m                                Traceback (most recent call last)",
      "\u001b[0;32m<ipython-input-3-267c0c5f693d>\u001b[0m in \u001b[0;36m<module>\u001b[0;34m()\u001b[0m\n\u001b[1;32m     18\u001b[0m \u001b[0;34m\u001b[0m\u001b[0m\n\u001b[1;32m     19\u001b[0m \u001b[0;31m# NG\u001b[0m\u001b[0;34m\u001b[0m\u001b[0;34m\u001b[0m\u001b[0m\n\u001b[0;32m---> 20\u001b[0;31m \u001b[0mprint\u001b[0m\u001b[0;34m(\u001b[0m\u001b[0mnp\u001b[0m\u001b[0;34m.\u001b[0m\u001b[0marange\u001b[0m\u001b[0;34m(\u001b[0m\u001b[0;36m4\u001b[0m\u001b[0;34m)\u001b[0m \u001b[0;34m+\u001b[0m \u001b[0;34m[\u001b[0m\u001b[0;36m1\u001b[0m\u001b[0;34m,\u001b[0m \u001b[0;36m2\u001b[0m\u001b[0;34m]\u001b[0m\u001b[0;34m)\u001b[0m\u001b[0;34m\u001b[0m\u001b[0m\n\u001b[0m\u001b[1;32m     21\u001b[0m \u001b[0;34m\u001b[0m\u001b[0m\n\u001b[1;32m     22\u001b[0m \u001b[0;31m# concat array\u001b[0m\u001b[0;34m\u001b[0m\u001b[0;34m\u001b[0m\u001b[0m\n",
      "\u001b[0;31mValueError\u001b[0m: operands could not be broadcast together with shapes (4,) (2,) "
     ]
    }
   ],
   "source": [
    "a1 = np.asarray(a)\n",
    "b1 = np.asarray(b)\n",
    "print(a1, b1)\n",
    "print()\n",
    "\n",
    "# numericでできることは大抵できる。\n",
    "print(a1 + 100)\n",
    "print(a1 * 100)\n",
    "print(a1 / 100)\n",
    "print(a1 ** 2)\n",
    "print()\n",
    "\n",
    "# できるけど微妙\n",
    "print(a1 + [1])\n",
    "\n",
    "# 同一次元同士の四則演算もできる。\n",
    "print(a1 + b1)\n",
    "print(a1 * b1)\n",
    "print(a1 / b1)\n",
    "print()\n",
    "\n",
    "# NG\n",
    "print(np.arange(4) + [1, 2])\n",
    "\n",
    "# concat array\n",
    "print(np.concatenate([a1, b1]))"
   ]
  },
  {
   "cell_type": "code",
   "execution_count": 7,
   "metadata": {
    "collapsed": false
   },
   "outputs": [
    {
     "name": "stdout",
     "output_type": "stream",
     "text": [
      "[1, 2, 3, 1, 2, 3]\n"
     ]
    },
    {
     "ename": "TypeError",
     "evalue": "can only concatenate list (not \"int\") to list",
     "output_type": "error",
     "traceback": [
      "\u001b[0;31m---------------------------------------------------------------------------\u001b[0m",
      "\u001b[0;31mTypeError\u001b[0m                                 Traceback (most recent call last)",
      "\u001b[0;32m<ipython-input-7-8964166dfc85>\u001b[0m in \u001b[0;36m<module>\u001b[0;34m()\u001b[0m\n\u001b[1;32m      4\u001b[0m \u001b[0;31m# list NG\u001b[0m\u001b[0;34m\u001b[0m\u001b[0;34m\u001b[0m\u001b[0m\n\u001b[1;32m      5\u001b[0m \u001b[0;31m# print(a / 2)\u001b[0m\u001b[0;34m\u001b[0m\u001b[0;34m\u001b[0m\u001b[0m\n\u001b[0;32m----> 6\u001b[0;31m \u001b[0mprint\u001b[0m\u001b[0;34m(\u001b[0m\u001b[0ma\u001b[0m \u001b[0;34m+\u001b[0m \u001b[0;36m10\u001b[0m\u001b[0;34m)\u001b[0m\u001b[0;34m\u001b[0m\u001b[0m\n\u001b[0m",
      "\u001b[0;31mTypeError\u001b[0m: can only concatenate list (not \"int\") to list"
     ]
    }
   ],
   "source": [
    "# listでも掛け算はできる。ただし機能は異なる。\n",
    "print(a * 2)\n",
    "\n",
    "# list NG\n",
    "print(a / 2)\n",
    "print(a + 10)"
   ]
  },
  {
   "cell_type": "code",
   "execution_count": 15,
   "metadata": {
    "collapsed": false
   },
   "outputs": [
    {
     "ename": "AttributeError",
     "evalue": "'tuple' object has no attribute 'append'",
     "output_type": "error",
     "traceback": [
      "\u001b[0;31m---------------------------------------------------------------------------\u001b[0m",
      "\u001b[0;31mAttributeError\u001b[0m                            Traceback (most recent call last)",
      "\u001b[0;32m<ipython-input-15-b9cc041296b4>\u001b[0m in \u001b[0;36m<module>\u001b[0;34m()\u001b[0m\n\u001b[1;32m      3\u001b[0m \u001b[0;31m# a[0] = 100\u001b[0m\u001b[0;34m\u001b[0m\u001b[0;34m\u001b[0m\u001b[0m\n\u001b[1;32m      4\u001b[0m \u001b[0;34m\u001b[0m\u001b[0m\n\u001b[0;32m----> 5\u001b[0;31m \u001b[0ma\u001b[0m\u001b[0;34m.\u001b[0m\u001b[0mappend\u001b[0m\u001b[0;34m(\u001b[0m\u001b[0;36m10\u001b[0m\u001b[0;34m)\u001b[0m\u001b[0;34m\u001b[0m\u001b[0m\n\u001b[0m",
      "\u001b[0;31mAttributeError\u001b[0m: 'tuple' object has no attribute 'append'"
     ]
    }
   ],
   "source": [
    "# tuple is immutable\n",
    "a = (1, 2, 3)\n",
    "\n",
    "# tuple NG\n",
    "a[0] = 100\n",
    "a.append(10)"
   ]
  },
  {
   "cell_type": "code",
   "execution_count": 5,
   "metadata": {
    "collapsed": false
   },
   "outputs": [
    {
     "name": "stdout",
     "output_type": "stream",
     "text": [
      "[[0 1 2]\n",
      " [3 4 5]]\n",
      "(2, 3)\n",
      "--------------------\n",
      "[[[ 0  1  2  3]\n",
      "  [ 4  5  6  7]\n",
      "  [ 8  9 10 11]]\n",
      "\n",
      " [[12 13 14 15]\n",
      "  [16 17 18 19]\n",
      "  [20 21 22 23]]]\n",
      "(2, 3, 4)\n"
     ]
    }
   ],
   "source": [
    "# 多次元array\n",
    "# arrayが最も活躍\n",
    "a = np.arange(6).reshape(2, 3)\n",
    "print(a)\n",
    "print(a.shape)\n",
    "\n",
    "print('-' * 20)\n",
    "\n",
    "b = np.arange(24).reshape(2, 3, 4)\n",
    "print(b)\n",
    "print(b.shape)"
   ]
  },
  {
   "cell_type": "code",
   "execution_count": 7,
   "metadata": {
    "collapsed": false
   },
   "outputs": [
    {
     "name": "stdout",
     "output_type": "stream",
     "text": [
      "0 1 5\n",
      "11 14\n",
      "********************\n",
      "0 1 5\n",
      "0 1 5\n",
      "0 1 5\n"
     ]
    }
   ],
   "source": [
    "# array中のある値を取得\n",
    "print(a[0, 0], a[0, 1], a[1, 2])\n",
    "print(b[0, 2, 3], b[1, 0, 2])\n",
    "\n",
    "print('*' * 20)\n",
    "\n",
    "# listでも同様のことはできるが、書き方が異なり少し面倒い。\n",
    "la = [[0,1,2], [3,4,5]]\n",
    "print(la[0][0], la[0][1], la[1][2])\n",
    "\n",
    "# arrayはlistの書き方でも許される。原理的に考えればわかるけど。。\n",
    "print(a[0][0], a[0][1], a[1][2])\n",
    "print(a[0, 0], a[0, 1], a[1, 2])"
   ]
  },
  {
   "cell_type": "code",
   "execution_count": 11,
   "metadata": {
    "collapsed": false
   },
   "outputs": [
    {
     "name": "stdout",
     "output_type": "stream",
     "text": [
      "[[0 1 2]\n",
      " [3 4 5]] \n",
      "\n",
      "[[0 1 2]\n",
      " [3 4 5]] \n",
      "\n",
      "[[1 2]] \n",
      "\n",
      "[0 3] \n",
      "\n",
      "--------------------\n",
      "[[[ 0  1  2  3]\n",
      "  [ 4  5  6  7]\n",
      "  [ 8  9 10 11]]\n",
      "\n",
      " [[12 13 14 15]\n",
      "  [16 17 18 19]\n",
      "  [20 21 22 23]]] \n",
      "\n",
      "[[[12 13 14 15]\n",
      "  [16 17 18 19]\n",
      "  [20 21 22 23]]] (1, 3, 4) \n",
      "\n",
      "[3 7] (2,) \n",
      "\n",
      "--------------------\n",
      "[[0, 1, 2], [3, 4, 5]]\n",
      "[]\n",
      "[[0, 1, 2]]\n",
      "[[1, 2]]\n"
     ]
    }
   ],
   "source": [
    "# slice; 1次元の場合と同じ。それを各次元に適用するだけ。\n",
    "print(a, '\\n')\n",
    "print(a[:, :], '\\n')\n",
    "print(a[:1, 1:], '\\n')\n",
    "print(a[:, 0], '\\n')\n",
    "print('-' * 20)\n",
    "\n",
    "# 下の次元のindexは省略可能\n",
    "print(b, '\\n')\n",
    "print(b[1:], b[1:].shape, '\\n')\n",
    "\n",
    "# こんな書き方も可能 (1次元ずつ考えればわかる)\n",
    "print(b[0, :2, 3], b[0, :2, 3].shape, '\\n')\n",
    "print('-' * 20)\n",
    "\n",
    "# slice; list\n",
    "print(la)\n",
    "\n",
    "# 値を取得するときのように上手くいかない。\n",
    "print(la[:1][1:])\n",
    "#これを見ればわかる。\n",
    "print(la[:1])\n",
    "# こうすれば同じ。とても面倒い。arrayのありがたさがわかる。\n",
    "print([v[1:] for v in la[:1]])"
   ]
  },
  {
   "cell_type": "code",
   "execution_count": 30,
   "metadata": {
    "collapsed": false
   },
   "outputs": [
    {
     "name": "stdout",
     "output_type": "stream",
     "text": [
      "List\n",
      "10 loops, best of 3: 49.9 ms per loop\n",
      "\n",
      "Array\n",
      "10000 loops, best of 3: 109 µs per loop\n",
      "**********\n",
      "List\n",
      "100 loops, best of 3: 8.21 ms per loop\n",
      "\n",
      "Array\n",
      "The slowest run took 12.92 times longer than the fastest. This could mean that an intermediate result is being cached.\n",
      "1000000 loops, best of 3: 448 ns per loop\n",
      "**********\n",
      "list -> array\n",
      "100 loops, best of 3: 17.9 ms per loop\n"
     ]
    }
   ],
   "source": [
    "# list vs array\n",
    "# array最大のメリット。計算めっちゃ速い（静的型のメリット）。\n",
    "# デメリットは簡単に変更できないこと。\n",
    "# 用途によって、listとどちらを使うか判断。\n",
    "\n",
    "N = 100000\n",
    "xs = range(N)\n",
    "\n",
    "print('List')\n",
    "%timeit [x**2 for x in xs]\n",
    "\n",
    "print('\\nArray')\n",
    "xa = np.asarray(xs)\n",
    "%timeit xa**2\n",
    "\n",
    "print('*' * 10)\n",
    "x2 = np.arange(N).reshape(int(N/2), 2)\n",
    "x2l = list(x2)\n",
    "print('List')\n",
    "%timeit [v[0] for v in x2l]\n",
    "print('\\nArray')\n",
    "%timeit x2[:, 0]\n",
    "\n",
    "print('*' * 10)\n",
    "print('list -> array')\n",
    "# overheadには気をつけたい\n",
    "%timeit xa = np.asarray(xs)"
   ]
  },
  {
   "cell_type": "code",
   "execution_count": 35,
   "metadata": {
    "collapsed": false
   },
   "outputs": [
    {
     "name": "stdout",
     "output_type": "stream",
     "text": [
      "[[0 1 2]\n",
      " [3 4 5]\n",
      " [6 7 8]]\n",
      "[[ 0  2  4]\n",
      " [ 6  8 10]\n",
      " [12 14 16]]\n",
      "**********\n",
      "[[ 0  1  2  0  2  4]\n",
      " [ 3  4  5  6  8 10]\n",
      " [ 6  7  8 12 14 16]]\n",
      "[[ 0  1  2  0  2  4]\n",
      " [ 3  4  5  6  8 10]\n",
      " [ 6  7  8 12 14 16]]\n",
      "**********\n",
      "[[ 0  1  2]\n",
      " [ 3  4  5]\n",
      " [ 6  7  8]\n",
      " [ 0  2  4]\n",
      " [ 6  8 10]\n",
      " [12 14 16]]\n",
      "[[ 0  1  2]\n",
      " [ 3  4  5]\n",
      " [ 6  7  8]\n",
      " [ 0  2  4]\n",
      " [ 6  8 10]\n",
      " [12 14 16]]\n"
     ]
    }
   ],
   "source": [
    "#　Advanced; stack\n",
    "a = np.arange(9).reshape(3, 3)\n",
    "b = 2 * a\n",
    "print(a)\n",
    "print(b)\n",
    "print('*' * 10)\n",
    "print(np.hstack((a, b)))\n",
    "print(np.concatenate([a, b], axis=1))\n",
    "print('*' * 10)\n",
    "print(np.vstack((a, b)))\n",
    "print(np.concatenate([a, b], axis=0))\n"
   ]
  },
  {
   "cell_type": "code",
   "execution_count": 38,
   "metadata": {
    "collapsed": false
   },
   "outputs": [
    {
     "name": "stdout",
     "output_type": "stream",
     "text": [
      "[0 1 2 3 4 5 6 7 8 9]\n",
      "[False False False False False  True  True  True  True  True]\n",
      "[5 6 7 8 9]\n",
      "[5 6 7 8 9]\n"
     ]
    }
   ],
   "source": [
    "# Advanced; mask\n",
    "a = np.arange(10)\n",
    "mask = a > 4\n",
    "print(a)\n",
    "print(mask)\n",
    "print(a[mask])\n",
    "print(a[a > 4])\n"
   ]
  },
  {
   "cell_type": "code",
   "execution_count": 41,
   "metadata": {
    "collapsed": false
   },
   "outputs": [
    {
     "name": "stdout",
     "output_type": "stream",
     "text": [
      "4.5\n",
      "4.5\n",
      "9\n",
      "0\n",
      "0\n"
     ]
    }
   ],
   "source": [
    "# 楽ちん計算\n",
    "a = np.arange(10)\n",
    "print(np.mean(a))\n",
    "print(np.median(a))\n",
    "print(np.max(a))\n",
    "print(np.min(a))\n",
    "print(min(a))"
   ]
  },
  {
   "cell_type": "code",
   "execution_count": 44,
   "metadata": {
    "collapsed": false
   },
   "outputs": [
    {
     "name": "stdout",
     "output_type": "stream",
     "text": [
      "[[ 0.  0.  0.]\n",
      " [ 0.  0.  0.]\n",
      " [ 0.  0.  0.]\n",
      " [ 0.  0.  0.]]\n",
      "[[ 1.  1.  1.]\n",
      " [ 1.  1.  1.]\n",
      " [ 1.  1.  1.]\n",
      " [ 1.  1.  1.]]\n"
     ]
    }
   ],
   "source": [
    "# 初期化\n",
    "a = np.zeros((4, 3))\n",
    "b = np.ones((4, 3))\n",
    "print(a)\n",
    "print(b)"
   ]
  },
  {
   "cell_type": "code",
   "execution_count": 22,
   "metadata": {
    "collapsed": false
   },
   "outputs": [
    {
     "name": "stdout",
     "output_type": "stream",
     "text": [
      "[  0.   1.   2.   3.   4.   5.   6.   7.   8.   9.  10.] \n",
      " [  0.   2.   4.   6.   8.  10.  12.  14.  16.  18.  20.]\n"
     ]
    },
    {
     "data": {
      "text/plain": [
       "<matplotlib.text.Text at 0x118a4bcf8>"
      ]
     },
     "execution_count": 22,
     "metadata": {},
     "output_type": "execute_result"
    },
    {
     "data": {
      "image/png": "[encoded data removed]",
      "text/plain": [
       "<matplotlib.figure.Figure at 0x118910390>"
      ]
     },
     "metadata": {},
     "output_type": "display_data"
    }
   ],
   "source": [
    "# Plot basics\n",
    "%matplotlib inline\n",
    "import matplotlib.pyplot as plt\n",
    "\n",
    "x = np.arange(10)\n",
    "x = np.linspace(0, 10, 11)\n",
    "y = 2 * x\n",
    "print(x, '\\n', y)\n",
    "\n",
    "# 一瞬で描ける。個人的には、Pythonの最も良い部分の一つ。\n",
    "plt.plot(x, y)\n",
    "\n",
    "\"\"\"\n",
    "plt.plot(x, y, 'o')\n",
    "plt.plot(x, y, 'o-')\n",
    "plt.plot(x, y, 'go-')\n",
    "plt.xlabel('X')\n",
    "plt.ylabel('Y')\n",
    "plt.title('Title')\n",
    "\"\"\""
   ]
  },
  {
   "cell_type": "code",
   "execution_count": 16,
   "metadata": {
    "collapsed": false
   },
   "outputs": [
    {
     "name": "stdout",
     "output_type": "stream",
     "text": [
      "[[ 0.   0.5]\n",
      " [ 1.   1.5]\n",
      " [ 2.   2.5]\n",
      " [ 3.   3.5]\n",
      " [ 4.   4.5]\n",
      " [ 5.   5.5]\n",
      " [ 6.   6.5]\n",
      " [ 7.   7.5]\n",
      " [ 8.   8.5]\n",
      " [ 9.   9.5]]\n",
      "[ 0.  1.  2.  3.  4.  5.  6.  7.  8.  9.] [ 0.5  1.5  2.5  3.5  4.5  5.5  6.5  7.5  8.5  9.5]\n"
     ]
    },
    {
     "data": {
      "text/plain": [
       "[<matplotlib.lines.Line2D at 0x11745cba8>]"
      ]
     },
     "execution_count": 16,
     "metadata": {},
     "output_type": "execute_result"
    },
    {
     "data": {
      "image/png": "[encoded data removed]",
      "text/plain": [
       "<matplotlib.figure.Figure at 0x1174ed400>"
      ]
     },
     "metadata": {},
     "output_type": "display_data"
    }
   ],
   "source": [
    "x = np.linspace(0, 10, 11)\n",
    "\n",
    "data = np.arange(20).reshape(10, 2) / 2.\n",
    "# カラムごとに取得。よく使われる。\n",
    "x2, y2 = data[:, 0], data[:, 1]\n",
    "print(data)\n",
    "print(x2, y2)\n",
    "\n",
    "fig, axes = plt.subplots(2, 2, sharex=True)\n",
    "axes[0, 0].plot(x2, y2)  # y = 2x\n",
    "axes[0, 1].plot(x, np.sin(x), 'o-')\n",
    "axes[1, 1].plot(x, x - x**2, 'ro')"
   ]
  },
  {
   "cell_type": "code",
   "execution_count": null,
   "metadata": {
    "collapsed": true
   },
   "outputs": [],
   "source": []
  }
 ],
 "metadata": {
  "kernelspec": {
   "display_name": "Python 3",
   "language": "python",
   "name": "python3"
  },
  "language_info": {
   "codemirror_mode": {
    "name": "ipython",
    "version": 3
   },
   "file_extension": ".py",
   "mimetype": "text/x-python",
   "name": "python",
   "nbconvert_exporter": "python",
   "pygments_lexer": "ipython3",
   "version": "3.5.1"
  }
 },
 "nbformat": 4,
 "nbformat_minor": 0
}
